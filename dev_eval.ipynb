{
 "cells": [
  {
   "cell_type": "code",
   "execution_count": null,
   "id": "ec0b1f7d-605f-4350-b0f2-066c8c08f188",
   "metadata": {},
   "outputs": [],
   "source": [
    "import lightning as L\n",
    "import tqdm\n",
    "import torch\n",
    "import matplotlib.pyplot as plt\n",
    "import pandas as pd\n",
    "\n",
    "import torch_deeplabv3 as dlv3"
   ]
  },
  {
   "cell_type": "code",
   "execution_count": null,
   "id": "0100a8f7-d8fd-4816-8c62-22fe9567ac65",
   "metadata": {},
   "outputs": [],
   "source": [
    "model = dlv3.LitDeepLabV3.load_from_checkpoint(\n",
    "    \"lightning_logs/version_45/checkpoints/epoch=19-step=840.ckpt\",\n",
    "    n_ch=15, ens_prediction=True                                              \n",
    ")\n",
    "model"
   ]
  },
  {
   "cell_type": "code",
   "execution_count": null,
   "id": "a6e9baea-47d9-45a9-8021-6285426914b3",
   "metadata": {},
   "outputs": [],
   "source": [
    "_, _, test_loader = dlv3.get_loaders(kf_weighing=False, batch_size=32)"
   ]
  },
  {
   "cell_type": "code",
   "execution_count": null,
   "id": "075005ef-4014-4e07-baf4-578c6421a621",
   "metadata": {},
   "outputs": [],
   "source": [
    "X, y = zip(*(batch for batch in tqdm.tqdm(test_loader)))\n",
    "X = torch.concat(X)\n",
    "y = torch.concat(y)\n",
    "X.shape, y.shape"
   ]
  },
  {
   "cell_type": "code",
   "execution_count": null,
   "id": "9598438e-3d38-488d-8327-564647dd1651",
   "metadata": {},
   "outputs": [],
   "source": [
    "trainer = L.Trainer(devices=1, logger=False)\n",
    "trainer.test(model, test_loader)"
   ]
  },
  {
   "cell_type": "markdown",
   "id": "3164fd7b-6f04-4f45-aaa1-a254db2d5391",
   "metadata": {},
   "source": [
    "# PFI"
   ]
  },
  {
   "cell_type": "code",
   "execution_count": null,
   "id": "5f42e057-7d69-4627-8fd5-6cec62ef42ae",
   "metadata": {},
   "outputs": [],
   "source": [
    "def shuffle_channel(data, channel):\n",
    "    \"\"\"Shuffle the data in a specific channel.\"\"\"\n",
    "    # Clone the data to avoid modifying the original dataset\n",
    "    shuffled_data = data.clone()\n",
    "    # Shuffle each image in the batch separately to maintain independence\n",
    "    for i in range(shuffled_data.shape[0]):\n",
    "        shuffled_data[i, channel] = shuffled_data[i, channel].flatten()[\n",
    "            torch.randperm(shuffled_data[i, channel].nelement())\n",
    "        ].view(\n",
    "            shuffled_data[i, channel].shape\n",
    "        )\n",
    "        \n",
    "    return shuffled_data"
   ]
  },
  {
   "cell_type": "code",
   "execution_count": null,
   "id": "ded5e910-c255-4a7e-9360-21249a42e612",
   "metadata": {},
   "outputs": [],
   "source": [
    "def get_Xy_loader(X, y, **kwargs):\n",
    "    if y is None:\n",
    "        ds = [(Xi, None) for Xi in X]\n",
    "    else:\n",
    "        ds = list(zip(X, y))\n",
    "    return torch.utils.data.DataLoader(ds, **kwargs)"
   ]
  },
  {
   "cell_type": "code",
   "execution_count": null,
   "id": "a484309e-a127-40fb-a1e2-26c23cace18d",
   "metadata": {},
   "outputs": [],
   "source": [
    "# Only one batch for now\n",
    "# X, y = next(iter(test_loader))\n",
    "# X.shape, y.shape\n",
    "\n",
    "X, y = zip(*(batch for batch in tqdm.tqdm(test_loader)))\n",
    "X = torch.concat(X)\n",
    "y = torch.concat(y)\n",
    "X.shape, y.shape"
   ]
  },
  {
   "cell_type": "code",
   "execution_count": null,
   "id": "6d32597c-f059-42cd-80fb-a0b659c43538",
   "metadata": {},
   "outputs": [],
   "source": [
    "plt.imshow(X[0, 0])"
   ]
  },
  {
   "cell_type": "code",
   "execution_count": null,
   "id": "85fc4f2a-a3e2-41e5-8a7f-93ddc33a3a92",
   "metadata": {},
   "outputs": [],
   "source": [
    "X_shuf = shuffle_channel(X[:2], 1)"
   ]
  },
  {
   "cell_type": "code",
   "execution_count": null,
   "id": "ff970f65-3121-4f15-9652-2600d33a4105",
   "metadata": {},
   "outputs": [],
   "source": [
    "plt.imshow(X_shuf[0, 1])"
   ]
  },
  {
   "cell_type": "code",
   "execution_count": null,
   "id": "9c8bf038-479b-4e48-b4bf-1d31750c36ea",
   "metadata": {},
   "outputs": [],
   "source": [
    "trainer = L.Trainer(devices=1, logger=False)"
   ]
  },
  {
   "cell_type": "code",
   "execution_count": null,
   "id": "823938fc-f7c8-4265-9f72-04c5562cbdb7",
   "metadata": {},
   "outputs": [],
   "source": [
    "score_baseline = trainer.test(model, get_Xy_loader(X, y, batch_size=32))[0]\n",
    "score_baseline"
   ]
  },
  {
   "cell_type": "code",
   "execution_count": null,
   "id": "4d4c0f43-7e43-4060-bc62-bc1846650679",
   "metadata": {},
   "outputs": [],
   "source": [
    "scores_perm = []\n",
    "for i in range(model.n_ch):\n",
    "    X_perm = shuffle_channel(X, i)\n",
    "    scores_perm.append(\n",
    "        trainer.test(model, get_Xy_loader(X_perm, y, batch_size=32))[0]\n",
    "    )\n",
    "\n",
    "# Make scores relative to baseline\n",
    "for i, scores_perm_ch in enumerate(scores_perm):\n",
    "    for k in score_baseline:\n",
    "        scores_perm[i][k] /= score_baseline[k]\n",
    "\n",
    "fi_df = pd.DataFrame(scores_perm)\n",
    "fi_df[\"test_dice\"] = 1 - fi_df[\"test_dice\"]  # performance drop = important\n",
    "fi_df[\"test_nz_std\"] = fi_df[\"test_nz_std\"] - 1 # more uncertainty = important"
   ]
  },
  {
   "cell_type": "code",
   "execution_count": null,
   "id": "00771d7f-f7c9-4601-af13-a1fb009ae829",
   "metadata": {},
   "outputs": [],
   "source": [
    "fi_df[\"test_dice\"].plot.bar()"
   ]
  },
  {
   "cell_type": "code",
   "execution_count": null,
   "id": "f79cea3b-dc52-4a6d-b288-02b0635df7f4",
   "metadata": {},
   "outputs": [],
   "source": [
    "fi_df[\"test_nz_std\"].plot.bar()"
   ]
  },
  {
   "cell_type": "markdown",
   "id": "6c55dd75-8e08-4a60-8317-e92f343c5133",
   "metadata": {
    "jp-MarkdownHeadingCollapsed": true
   },
   "source": [
    "# Ensemble"
   ]
  },
  {
   "cell_type": "code",
   "execution_count": null,
   "id": "c14ef884-a22f-4dd1-8d45-151ccd1faf87",
   "metadata": {},
   "outputs": [],
   "source": [
    "trainer = L.Trainer(devices=1, logger=False)\n",
    "y_hat = trainer.predict(model, test_loader)\n",
    "y_hat = torch.concat(y_hat)"
   ]
  },
  {
   "cell_type": "code",
   "execution_count": null,
   "id": "a473f14d-4b4b-45a8-b476-248a940eb5f2",
   "metadata": {},
   "outputs": [],
   "source": [
    "plt.imshow(y_hat[3])"
   ]
  },
  {
   "cell_type": "code",
   "execution_count": null,
   "id": "14239705-0147-4c36-bb16-60f789a0831f",
   "metadata": {},
   "outputs": [],
   "source": [
    "plt.imshow(y[3])"
   ]
  },
  {
   "cell_type": "code",
   "execution_count": null,
   "id": "ae9a61db-e10f-4322-9211-7fae96a1a375",
   "metadata": {},
   "outputs": [],
   "source": [
    "Xi = X[3]\n",
    "Xrot = [\n",
    "    torch.rot90(Xi, k=k, dims=[1, 2])\n",
    "    for k in [0, 1, 2, 3]\n",
    "]\n",
    "\n",
    "fig, axarr = plt.subplots(ncols=2, nrows=2)\n",
    "for i, ax in enumerate(axarr.ravel()):\n",
    "    ax.imshow(Xrot[i][0])"
   ]
  },
  {
   "cell_type": "code",
   "execution_count": null,
   "id": "095c3a90-2692-45f2-b593-c29cc04ee1d5",
   "metadata": {},
   "outputs": [],
   "source": [
    "def get_X_loader(X):\n",
    "    ds = [(Xi, 0) for Xi in X]\n",
    "    return torch.utils.data.DataLoader(ds)"
   ]
  },
  {
   "cell_type": "code",
   "execution_count": null,
   "id": "7e509b3e-8398-4531-b17b-4715fb87f26a",
   "metadata": {},
   "outputs": [],
   "source": [
    "y_hat = trainer.predict(model, get_X_loader(Xrot))\n",
    "y_hat = torch.concat(y_hat).float()\n",
    "\n",
    "# Rotate predictions back\n",
    "y_hat = torch.stack([\n",
    "    torch.rot90(y_hat[i], k=-i)\n",
    "    for i in range(len(y_hat))\n",
    "])\n",
    "\n",
    "y_hat.shape"
   ]
  },
  {
   "cell_type": "code",
   "execution_count": null,
   "id": "a1eeb3fc-346a-4bf8-a660-ac3295bff207",
   "metadata": {},
   "outputs": [],
   "source": [
    "fig, axarr = plt.subplots(ncols=2, nrows=2)\n",
    "for i, ax in enumerate(axarr.ravel()):\n",
    "    ax.imshow(y_hat[i])"
   ]
  },
  {
   "cell_type": "code",
   "execution_count": null,
   "id": "d2a95749-f274-4077-aaf9-c09269957ffd",
   "metadata": {},
   "outputs": [],
   "source": [
    "plt.imshow(y_hat.std(axis=0))"
   ]
  },
  {
   "cell_type": "code",
   "execution_count": null,
   "id": "f66a2b75-8bfa-4bf5-a889-2b35caf6a3b8",
   "metadata": {},
   "outputs": [],
   "source": [
    "plt.imshow(y_hat.mean(axis=0))"
   ]
  },
  {
   "cell_type": "code",
   "execution_count": null,
   "id": "9a2cec76-cb60-44d1-ac76-65593fdbaed1",
   "metadata": {},
   "outputs": [],
   "source": []
  }
 ],
 "metadata": {
  "kernelspec": {
   "display_name": "Python 3 (ipykernel)",
   "language": "python",
   "name": "python3"
  },
  "language_info": {
   "codemirror_mode": {
    "name": "ipython",
    "version": 3
   },
   "file_extension": ".py",
   "mimetype": "text/x-python",
   "name": "python",
   "nbconvert_exporter": "python",
   "pygments_lexer": "ipython3",
   "version": "3.11.7"
  }
 },
 "nbformat": 4,
 "nbformat_minor": 5
}
