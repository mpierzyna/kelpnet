{
 "cells": [
  {
   "cell_type": "code",
   "execution_count": null,
   "id": "90bbfd8f-1f66-4a80-9672-3139a39f008e",
   "metadata": {},
   "outputs": [],
   "source": [
    "import pandas as pd\n",
    "import numpy as np\n",
    "import matplotlib.pyplot as plt\n",
    "import rasterio\n",
    "import cv2\n",
    "import pathlib\n",
    "import tqdm"
   ]
  },
  {
   "cell_type": "code",
   "execution_count": null,
   "id": "e285da14-74db-492e-aae5-08b65a1a2b36",
   "metadata": {},
   "outputs": [],
   "source": [
    "import warnings\n",
    "warnings.filterwarnings(\"ignore\", category=rasterio.errors.NotGeoreferencedWarning)"
   ]
  },
  {
   "cell_type": "code",
   "execution_count": null,
   "id": "8591d1c3-41df-4ea3-8b65-7e59be024afa",
   "metadata": {},
   "outputs": [],
   "source": [
    "img = rasterio.open(\"data/train_satellite/ZV934951_satellite.tif\").read()\n",
    "plt.imshow(img[5])"
   ]
  },
  {
   "cell_type": "code",
   "execution_count": null,
   "id": "81dac9d7-f136-4c7c-b539-4a7aa413d095",
   "metadata": {},
   "outputs": [],
   "source": [
    "ft = np.fft.ifftshift(img[4])\n",
    "ft = np.fft.fft2(ft)\n",
    "ft = np.fft.fftshift(ft)\n",
    "plt.imshow(np.log(abs(ft)))"
   ]
  },
  {
   "cell_type": "code",
   "execution_count": null,
   "id": "f5d495fe-0889-4d7c-b4ef-6c7389ac79a9",
   "metadata": {},
   "outputs": [],
   "source": [
    "def inpaint_img(img):\n",
    "    # NaN mask\n",
    "    img_nan = ((img[0] < 0) * 255).astype(np.uint8)  # required by opencv\n",
    "\n",
    "    # Iterate all channels except DEM to fill NaN\n",
    "    for i in [0, 1, 2, 3, 4, 5]:\n",
    "        ch = img[i]\n",
    "        ch = np.where(ch < 0, 0, ch)\n",
    "        ch = ch.astype(np.uint16)  # required by opencv\n",
    "        img[i] = cv2.inpaint(ch, img_nan, 3, cv2.INPAINT_NS)\n",
    "\n",
    "    return img"
   ]
  },
  {
   "cell_type": "code",
   "execution_count": null,
   "id": "cc1478bd-d099-49dd-a056-b8f02d402b09",
   "metadata": {},
   "outputs": [],
   "source": [
    "img = rasterio.open(\"data/train_satellite/ZV934951_satellite.tif\").read()\n",
    "img = inpaint_img(img)\n",
    "plt.imshow(img[0])"
   ]
  },
  {
   "cell_type": "code",
   "execution_count": null,
   "id": "bcd994fa-ad53-4a6e-b7fd-97931e88657e",
   "metadata": {},
   "outputs": [],
   "source": [
    "ft = np.fft.ifftshift(img[4])\n",
    "ft = np.fft.fft2(ft)\n",
    "ft = np.fft.fftshift(ft)\n",
    "plt.imshow(np.log(abs(ft)))"
   ]
  },
  {
   "cell_type": "code",
   "execution_count": null,
   "id": "c3b0f6c8-1ce3-4a88-a12e-1f826419dfd5",
   "metadata": {},
   "outputs": [],
   "source": [
    "import joblib"
   ]
  },
  {
   "cell_type": "code",
   "execution_count": null,
   "id": "6f253fdf-7391-4fac-8dec-fffbea06e425",
   "metadata": {},
   "outputs": [],
   "source": [
    "def load_inpaint_save(fpath: str):\n",
    "    warnings.filterwarnings(\"ignore\", category=rasterio.errors.NotGeoreferencedWarning)\n",
    "    fpath = pathlib.Path(fpath)\n",
    "\n",
    "    # Load and fill NaN\n",
    "    r = rasterio.open(fpath)\n",
    "    img = r.read()\n",
    "    img = inpaint_img(img)\n",
    "\n",
    "    # Write back\n",
    "    with rasterio.open(root_inpainted / base / fpath.name, \"w\", **r.profile) as dst:\n",
    "        dst.write(img)"
   ]
  },
  {
   "cell_type": "code",
   "execution_count": null,
   "id": "0877c069-c8bf-4df4-be38-060345161f91",
   "metadata": {},
   "outputs": [],
   "source": [
    "root_orig = pathlib.Path(\"data\")\n",
    "root_inpainted = pathlib.Path(\"data_inpainted\")\n",
    "base = \"test_satellite\"\n",
    "# base = \"train_satellite\"\n",
    "\n",
    "assert (root_orig / base).exists()\n",
    "assert (root_inpainted / base).exists()\n",
    "\n",
    "img_list = [\"data/train_satellite/ZV934951_satellite.tif\"]\n",
    "img_list = list((root_orig / base).glob(\"*.tif\"))\n",
    "\n",
    "_ = joblib.Parallel(n_jobs=32)(\n",
    "    joblib.delayed(load_inpaint_save)(fpath)\n",
    "    for fpath in tqdm.tqdm(img_list)\n",
    ")"
   ]
  },
  {
   "cell_type": "code",
   "execution_count": null,
   "id": "d8c37718-236c-4d47-8c9f-f6ee8dd0c80c",
   "metadata": {},
   "outputs": [],
   "source": [
    "img = rasterio.open(\"data_inpainted/train_satellite/ZV934951_satellite.tif\").read()\n",
    "plt.imshow(img[0])"
   ]
  },
  {
   "cell_type": "code",
   "execution_count": null,
   "id": "5449c856-4b3a-46aa-9aa3-d696778761b0",
   "metadata": {},
   "outputs": [],
   "source": []
  }
 ],
 "metadata": {
  "kernelspec": {
   "display_name": "Python 3 (ipykernel)",
   "language": "python",
   "name": "python3"
  },
  "language_info": {
   "codemirror_mode": {
    "name": "ipython",
    "version": 3
   },
   "file_extension": ".py",
   "mimetype": "text/x-python",
   "name": "python",
   "nbconvert_exporter": "python",
   "pygments_lexer": "ipython3",
   "version": "3.11.7"
  }
 },
 "nbformat": 4,
 "nbformat_minor": 5
}
