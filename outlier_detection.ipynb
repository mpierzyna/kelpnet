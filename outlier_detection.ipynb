{
 "cells": [
  {
   "cell_type": "code",
   "execution_count": null,
   "id": "a30862f7-8fdc-4841-81fd-f887b4d43bfa",
   "metadata": {},
   "outputs": [],
   "source": [
    "from data import KelpNCDataset\n",
    "import numpy as np\n",
    "import matplotlib.pyplot as plt\n",
    "import tqdm\n",
    "import xarray as xr\n",
    "import pandas as pd"
   ]
  },
  {
   "cell_type": "code",
   "execution_count": null,
   "id": "f438096c-6e87-4914-a396-802f8b6d3060",
   "metadata": {},
   "outputs": [],
   "source": [
    "from sklearn.neighbors import NearestNeighbors\n",
    "from sklearn.cluster import DBSCAN\n",
    "\n",
    "\n",
    "def dbscan_knee_plot(X: np.ndarray, eps: float = None, ax: plt.Axes = None) -> int:\n",
    "    \"\"\" Generate knee plot with DBSCAN to guess a good epsilon threshold. Pick eps at the knee. \"\"\"\n",
    "    # Dimensionality of data\n",
    "    n, d = X.shape\n",
    "    min_pts = (2 * d) + 1  # +1 to include point itself\n",
    "    min_pts = min(n, min_pts)\n",
    "    k_nn = 2 * d  # (2 * d - 1) from Schubert et al (2017)\n",
    "    k_nn = min(n, k_nn)\n",
    "    print(f\"Based on dimensionality, use min_pts={min_pts}!\")\n",
    "\n",
    "    nn = NearestNeighbors(n_neighbors=min_pts)\n",
    "    nn.fit(X)\n",
    "    nn_dist, _ = nn.kneighbors(X, k_nn, return_distance=True)\n",
    "    nn_dist = np.sort(nn_dist[:, -1])[::-1]\n",
    "\n",
    "    if ax is None:\n",
    "        fig, ax = plt.subplots()\n",
    "\n",
    "    ax.plot(nn_dist)\n",
    "    if eps is not None:\n",
    "        ax.hlines(eps, 0, len(nn_dist), color=\"red\")\n",
    "\n",
    "    try:\n",
    "        # Only show if generated inside function\n",
    "        fig.show()\n",
    "    except NameError:\n",
    "        ...\n",
    "\n",
    "    return min_pts"
   ]
  },
  {
   "cell_type": "code",
   "execution_count": null,
   "id": "21ab503f-7b1d-47e6-a582-fe848bb0fd8a",
   "metadata": {},
   "outputs": [],
   "source": [
    "kelp = KelpNCDataset(img_nc_path=\"data_ncf/train_imgs_fe.nc\", mask_nc_path=\"data_ncf/train_masks.ncf\")\n",
    "imgs = kelp.imgs.chunk({\"sample\": 250}).isel(ch=slice(0, 5))\n",
    "masks = kelp.masks.chunk({\"sample\": 1000})"
   ]
  },
  {
   "cell_type": "code",
   "execution_count": null,
   "id": "54f02406-bdf5-4a72-8c95-ac16179d3b75",
   "metadata": {},
   "outputs": [],
   "source": [
    "imgs"
   ]
  },
  {
   "cell_type": "code",
   "execution_count": null,
   "id": "c834fda4-1425-47aa-8c9a-f3428fd22c6e",
   "metadata": {},
   "outputs": [],
   "source": [
    "masks"
   ]
  },
  {
   "cell_type": "code",
   "execution_count": null,
   "id": "d4364b43-ab77-494b-b219-2fabdc07a874",
   "metadata": {},
   "outputs": [],
   "source": [
    "df_quality = pd.read_csv(\"quality.csv\", index_col=0)\n",
    "nans = df_quality[\"nan_fraction\"]\n",
    "nans = nans.to_xarray().rename(index=\"sample\").expand_dims(\"ch\")\n",
    "nans = nans.assign_coords(sample=imgs.sample, ch=[\"nan_frac\"])\n",
    "# nans = np.power(nans, 1/2)\n",
    "\n",
    "nans.plot.hist()"
   ]
  },
  {
   "cell_type": "code",
   "execution_count": null,
   "id": "8056b1ac-042e-4d8e-9b77-ec6e2df6e7cc",
   "metadata": {},
   "outputs": [],
   "source": [
    "imgs_mean = imgs.mean([\"i\", \"j\"])\n",
    "imgs_std = imgs.std([\"i\", \"j\"])\n",
    "imgs_mean.sizes, imgs_std.sizes"
   ]
  },
  {
   "cell_type": "code",
   "execution_count": null,
   "id": "6586cd30-d86f-4943-a25b-c4cb2a2f4a3a",
   "metadata": {},
   "outputs": [],
   "source": [
    "imgs_stats = xr.concat([\n",
    "    imgs_mean, \n",
    "    imgs_std, \n",
    "    nans\n",
    "], dim=\"ch\").compute()\n",
    "imgs_stats"
   ]
  },
  {
   "cell_type": "code",
   "execution_count": null,
   "id": "ae5c509e-0570-41d8-a147-ee4cb32a0ef9",
   "metadata": {},
   "outputs": [],
   "source": [
    "dbscan_knee_plot(imgs_stats, eps=.16)"
   ]
  },
  {
   "cell_type": "code",
   "execution_count": null,
   "id": "e597d2cc-cc1c-459a-afae-38d3220d6330",
   "metadata": {},
   "outputs": [],
   "source": [
    "# clst = DBSCAN(eps=.13, min_samples=21).fit(imgs_stats)\n",
    "clst = DBSCAN(eps=.16, min_samples=23).fit(imgs_stats)"
   ]
  },
  {
   "cell_type": "code",
   "execution_count": null,
   "id": "0e21a6ae-cc75-4f06-b2ca-6453a5f4146e",
   "metadata": {},
   "outputs": [],
   "source": [
    "np.unique(clst.labels_, return_counts=True)"
   ]
  },
  {
   "cell_type": "code",
   "execution_count": null,
   "id": "54bb0bd2-7fbc-4b79-8aa2-90eb38775e6f",
   "metadata": {},
   "outputs": [],
   "source": [
    "is_outlier = clst.labels_ == -1\n",
    "imgs_outlier = imgs.sel(sample=is_outlier).load()\n",
    "imgs_outlier"
   ]
  },
  {
   "cell_type": "code",
   "execution_count": null,
   "id": "d06f7e0e-3adb-4231-82f6-5c085aca160d",
   "metadata": {},
   "outputs": [],
   "source": [
    "random_samples = np.random.choice(imgs_outlier.sample, size=25)\n",
    "random_samples"
   ]
  },
  {
   "cell_type": "code",
   "execution_count": null,
   "id": "bd5de92c-c9c4-460a-8db2-8bb93581a005",
   "metadata": {},
   "outputs": [],
   "source": [
    "fig, axarr = plt.subplots(ncols=5, nrows=5, figsize=(20, 20))\n",
    "for s, ax in zip(random_samples, axarr.ravel()):\n",
    "    ax.imshow(imgs_outlier.sel(sample=s).isel(ch=0))"
   ]
  },
  {
   "cell_type": "code",
   "execution_count": null,
   "id": "85034804-8d9f-40a3-b988-2ce960f01dba",
   "metadata": {},
   "outputs": [],
   "source": [
    "pd.Series(is_outlier).to_csv(\"is_outlier.csv\")"
   ]
  },
  {
   "cell_type": "code",
   "execution_count": null,
   "id": "8f9e1fda-e4a2-4ba5-aa20-b14198f1d281",
   "metadata": {},
   "outputs": [],
   "source": [
    "pd.read_csv(\"is_outlier.csv\")[\"0\"]"
   ]
  },
  {
   "cell_type": "markdown",
   "id": "8c70c98b-393f-4480-8bc8-30cca5617683",
   "metadata": {
    "jp-MarkdownHeadingCollapsed": true
   },
   "source": [
    "# Application to test data \n",
    "(irrelevant because I need to predict on all of them anyway)"
   ]
  },
  {
   "cell_type": "code",
   "execution_count": null,
   "id": "2154af52-59cb-4914-9c0b-bdb2fa339ba4",
   "metadata": {},
   "outputs": [],
   "source": [
    "kelp_test = KelpNCDataset(img_nc_path=\"data_ncf/test_imgs_fe.nc\")\n",
    "imgs_test = kelp_test.imgs.chunk(sample=250).isel(ch=slice(0, 5))\n",
    "imgs_test"
   ]
  },
  {
   "cell_type": "code",
   "execution_count": null,
   "id": "16e8a29b-0401-400b-98df-58de035bd18f",
   "metadata": {},
   "outputs": [],
   "source": [
    "imgs_stats_test = xr.concat([\n",
    "    imgs_test.mean([\"i\", \"j\"]), \n",
    "    imgs_test.std([\"i\", \"j\"]), \n",
    "    # nans\n",
    "], dim=\"ch\").compute()\n",
    "imgs_stats_test"
   ]
  },
  {
   "cell_type": "code",
   "execution_count": null,
   "id": "774dd1df-11d6-40e1-8757-6ca6099bc2af",
   "metadata": {},
   "outputs": [],
   "source": [
    "np.unique(clst.fit_predict(imgs_stats_test), return_counts=True)"
   ]
  },
  {
   "cell_type": "code",
   "execution_count": null,
   "id": "8380c7fa-64f6-4fdc-9d23-f440d50b2a2c",
   "metadata": {},
   "outputs": [],
   "source": []
  }
 ],
 "metadata": {
  "kernelspec": {
   "display_name": "Python 3 (ipykernel)",
   "language": "python",
   "name": "python3"
  },
  "language_info": {
   "codemirror_mode": {
    "name": "ipython",
    "version": 3
   },
   "file_extension": ".py",
   "mimetype": "text/x-python",
   "name": "python",
   "nbconvert_exporter": "python",
   "pygments_lexer": "ipython3",
   "version": "3.11.7"
  }
 },
 "nbformat": 4,
 "nbformat_minor": 5
}
