{
 "cells": [
  {
   "cell_type": "code",
   "execution_count": 47,
   "id": "5ca6cc91-c3d4-4ac2-ab8f-df0a104bef43",
   "metadata": {},
   "outputs": [],
   "source": [
    "import joblib\n",
    "import torch\n",
    "import tqdm\n",
    "\n",
    "from data import Channel as Ch\n",
    "import torch_simple_unet as unet\n",
    "from torchmetrics import Dice"
   ]
  },
  {
   "cell_type": "code",
   "execution_count": 13,
   "id": "b9d204ee-3092-440e-866f-e6c711aac4ac",
   "metadata": {},
   "outputs": [
    {
     "data": {
      "text/plain": [
       "torch.Size([10, 21150, 64, 64])"
      ]
     },
     "execution_count": 13,
     "metadata": {},
     "output_type": "execute_result"
    }
   ],
   "source": [
    "y_hat_ens = joblib.load(\"pred.joblib\")\n",
    "y_hat_ens = [torch.cat(yi) for yi in y_hat_ens]\n",
    "y_hat_ens = torch.stack(y_hat_ens)\n",
    "y_hat_ens.shape"
   ]
  },
  {
   "cell_type": "code",
   "execution_count": 12,
   "id": "2ee678a1-1175-4e47-88c6-4afc5ad7928e",
   "metadata": {},
   "outputs": [
    {
     "name": "stdout",
     "output_type": "stream",
     "text": [
      "Loading data into memory...\n"
     ]
    }
   ],
   "source": [
    "_, _, ds_test = unet.get_dataset(use_channels=None, random_seed=1337)\n",
    "ds_test.load()"
   ]
  },
  {
   "cell_type": "code",
   "execution_count": 50,
   "id": "5446f379-040d-46ee-90a7-676894ad143e",
   "metadata": {},
   "outputs": [
    {
     "name": "stderr",
     "output_type": "stream",
     "text": [
      "100%|█████████████████████████████████████████████████████████████████████████████████████████████████████████████████████████████████████████████████████████████████████████| 21150/21150 [00:12<00:00, 1651.19it/s]\n"
     ]
    },
    {
     "data": {
      "text/plain": [
       "torch.Size([21150, 64, 64])"
      ]
     },
     "execution_count": 50,
     "metadata": {},
     "output_type": "execute_result"
    }
   ],
   "source": [
    "lsm = [xi[Ch.IS_LAND] for (xi, _) in tqdm.tqdm(ds_test)]\n",
    "lsm = torch.stack(lsm)\n",
    "lsm.shape"
   ]
  },
  {
   "cell_type": "code",
   "execution_count": 56,
   "id": "742b9036-5c52-4f1b-bc21-dbbf024fdaf7",
   "metadata": {},
   "outputs": [],
   "source": [
    "# Postproc predictions: Force land values to zero\n",
    "is_sea = 1 - lsm\n",
    "y_hat_ens = y_hat_ens * is_sea"
   ]
  },
  {
   "cell_type": "code",
   "execution_count": 21,
   "id": "91514823-3e83-4206-aca2-bae366285b26",
   "metadata": {},
   "outputs": [
    {
     "name": "stderr",
     "output_type": "stream",
     "text": [
      "100%|█████████████████████████████████████████████████████████████████████████████████████████████████████████████████████████████████████████████████████████████████████████| 21150/21150 [00:11<00:00, 1872.06it/s]\n"
     ]
    },
    {
     "data": {
      "text/plain": [
       "torch.Size([21150, 64, 64])"
      ]
     },
     "execution_count": 21,
     "metadata": {},
     "output_type": "execute_result"
    }
   ],
   "source": [
    "y = [yi for (_, yi) in tqdm.tqdm(ds_test)]\n",
    "y = torch.stack(y)\n",
    "y.shape"
   ]
  },
  {
   "cell_type": "code",
   "execution_count": 57,
   "id": "3a95541d-4be8-436e-bde1-c8ecac8cb0ed",
   "metadata": {},
   "outputs": [
    {
     "name": "stdout",
     "output_type": "stream",
     "text": [
      "tensor(0.6412)\n",
      "tensor(0.6405)\n",
      "tensor(0.6206)\n",
      "tensor(0.6528)\n",
      "tensor(0.6475)\n",
      "tensor(0.6057)\n",
      "tensor(0.6434)\n",
      "tensor(0.6372)\n",
      "tensor(0.6376)\n",
      "tensor(0.6160)\n"
     ]
    }
   ],
   "source": [
    "n, _, _, _ = y_hat_ens.shape\n",
    "for i in range(n):\n",
    "    d = Dice()(y_hat_ens[i], y)\n",
    "    print(d)"
   ]
  },
  {
   "cell_type": "code",
   "execution_count": 58,
   "id": "c578a092-f85f-4753-b1ed-aa552f3916dd",
   "metadata": {},
   "outputs": [
    {
     "data": {
      "text/plain": [
       "tensor(0.6480)"
      ]
     },
     "execution_count": 58,
     "metadata": {},
     "output_type": "execute_result"
    }
   ],
   "source": [
    "Dice()(y_hat_ens.mean(dim=0), y)"
   ]
  },
  {
   "cell_type": "code",
   "execution_count": 59,
   "id": "328e8e3a-5a86-4995-ab9a-019f40c59adf",
   "metadata": {},
   "outputs": [
    {
     "data": {
      "text/plain": [
       "torch.Size([21150, 64, 64])"
      ]
     },
     "execution_count": 59,
     "metadata": {},
     "output_type": "execute_result"
    }
   ],
   "source": [
    "y_hat_ens.std(dim=0).shape"
   ]
  },
  {
   "cell_type": "code",
   "execution_count": null,
   "id": "1a0077e5-356e-4344-b216-8bf7e65bba91",
   "metadata": {},
   "outputs": [],
   "source": []
  }
 ],
 "metadata": {
  "kernelspec": {
   "display_name": "Python 3 (ipykernel)",
   "language": "python",
   "name": "python3"
  },
  "language_info": {
   "codemirror_mode": {
    "name": "ipython",
    "version": 3
   },
   "file_extension": ".py",
   "mimetype": "text/x-python",
   "name": "python",
   "nbconvert_exporter": "python",
   "pygments_lexer": "ipython3",
   "version": "3.11.7"
  }
 },
 "nbformat": 4,
 "nbformat_minor": 5
}
