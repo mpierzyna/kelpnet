{
 "cells": [
  {
   "cell_type": "code",
   "execution_count": null,
   "id": "5ca6cc91-c3d4-4ac2-ab8f-df0a104bef43",
   "metadata": {},
   "outputs": [],
   "source": [
    "import joblib\n",
    "import torch\n",
    "import tqdm\n",
    "import matplotlib.pyplot as plt\n",
    "import numpy as np\n",
    "import pathlib\n",
    "\n",
    "from data import Channel as Ch, KelpNCDataset\n",
    "import torch_simple_unet as unet\n",
    "from torchmetrics import Dice\n",
    "import shared"
   ]
  },
  {
   "cell_type": "code",
   "execution_count": null,
   "id": "c1ac82ee-0e4a-43ed-a85b-7f77948f99a3",
   "metadata": {},
   "outputs": [],
   "source": [
    "def get_val_score(ckpt):\n",
    "    cb = ckpt[\"callbacks\"]\n",
    "    cb_key = None\n",
    "    for k in cb.keys():\n",
    "        if \"ModelCheckpoint\" in k:\n",
    "            cb_key = k\n",
    "            break\n",
    "    return float(cb[cb_key][\"best_model_score\"].cpu())"
   ]
  },
  {
   "cell_type": "code",
   "execution_count": null,
   "id": "1bfa0552-df42-4fbd-be89-f514afa0a6eb",
   "metadata": {},
   "outputs": [],
   "source": [
    "seg_dir = pathlib.Path(\"ens_seg/20240219_163535\")\n",
    "seg_ckpt_files = sorted(seg_dir.glob(\"*.ckpt\"))\n",
    "seg_val_scores = np.array([\n",
    "    get_val_score(torch.load(ckpt_path))\n",
    "    for ckpt_path in tqdm.tqdm(seg_ckpt_files)\n",
    "])"
   ]
  },
  {
   "cell_type": "code",
   "execution_count": null,
   "id": "3a5e746e-0ad5-483b-a6a5-86b0ac3a9214",
   "metadata": {},
   "outputs": [],
   "source": [
    "seg_val_scores"
   ]
  },
  {
   "cell_type": "code",
   "execution_count": null,
   "id": "b9d204ee-3092-440e-866f-e6c711aac4ac",
   "metadata": {},
   "outputs": [],
   "source": [
    "scores, y_hat_seg_ens, use_ch_list = joblib.load(seg_dir / \"pred_seg.joblib\")\n",
    "y_hat_ens.shape"
   ]
  },
  {
   "cell_type": "code",
   "execution_count": null,
   "id": "7e875e72-4559-4ae3-8ffa-fa029ce79157",
   "metadata": {},
   "outputs": [],
   "source": [
    "# Member weights based on score\n",
    "if scores[0] is None:\n",
    "    print(\"Using val scores for weighting\")\n",
    "    w = seg_val_scores\n",
    "else:\n",
    "    print(\"Using test scores for weighting\")\n",
    "    w = np.array([s[0][\"test_dice\"] for s in scores])\n",
    "\n",
    "w /= w.sum()\n",
    "w"
   ]
  },
  {
   "cell_type": "code",
   "execution_count": null,
   "id": "2ee678a1-1175-4e47-88c6-4afc5ad7928e",
   "metadata": {},
   "outputs": [],
   "source": [
    "_, _, ds_test = shared.get_dataset(use_channels=None, tile_seed=1337, split_seed=shared.GLOBAL_SEED, mode=\"seg\")\n",
    "ds_test.load()"
   ]
  },
  {
   "cell_type": "code",
   "execution_count": null,
   "id": "4b491a25-6377-4cad-b63b-c550235f1583",
   "metadata": {},
   "outputs": [],
   "source": [
    "len(ds_test) / ds_test.tile_sampler.n_tiles"
   ]
  },
  {
   "cell_type": "code",
   "execution_count": null,
   "id": "5446f379-040d-46ee-90a7-676894ad143e",
   "metadata": {},
   "outputs": [],
   "source": [
    "lsm = [xi[Ch.IS_LAND] for (xi, _) in tqdm.tqdm(ds_test)]\n",
    "lsm = torch.stack(lsm)\n",
    "lsm.shape"
   ]
  },
  {
   "cell_type": "code",
   "execution_count": null,
   "id": "742b9036-5c52-4f1b-bc21-dbbf024fdaf7",
   "metadata": {},
   "outputs": [],
   "source": [
    "# Postproc predictions: Force land values to zero\n",
    "is_sea = 1 - lsm\n",
    "y_hat_seg_ens = y_hat_seg_ens * is_sea"
   ]
  },
  {
   "cell_type": "code",
   "execution_count": null,
   "id": "7f5b3f35-baba-403d-8407-2c5e406accd3",
   "metadata": {},
   "outputs": [],
   "source": [
    "y_hat_seg_ens.shape"
   ]
  },
  {
   "cell_type": "code",
   "execution_count": null,
   "id": "ba71e8dc-afc1-4ee4-a6e3-6ea8b7513dfe",
   "metadata": {},
   "outputs": [],
   "source": [
    "def assemble_tiles(tiles, orig_size, inds):\n",
    "    _, tile_size, _ = tiles.shape\n",
    "    count = np.zeros((orig_size, orig_size), dtype=np.uint8)\n",
    "    array = np.zeros((orig_size, orig_size))\n",
    "    for tile, (i, j) in zip(tiles, inds):\n",
    "        count[i:i + tile_size, j:j + tile_size] += 1\n",
    "        array[i:i + tile_size, j:j + tile_size] += tile\n",
    "    return count, array"
   ]
  },
  {
   "cell_type": "code",
   "execution_count": null,
   "id": "fedc24fb-82b4-409b-b572-fe2d4a21528b",
   "metadata": {},
   "outputs": [],
   "source": [
    "n = ds_test.tile_sampler.n_tiles\n",
    "inds = ds_test.tile_sampler.inds_\n",
    "\n",
    "y_hat_ens_ass = []\n",
    "for j in tqdm.trange(len(y_hat_seg_ens)):\n",
    "    y_hat_ass = []\n",
    "    y_hat_ass_cnt = []\n",
    "    \n",
    "    for i in range(0, len(ds_test), n):\n",
    "        c, a = assemble_tiles(y_hat_seg_ens[j, i:i+n].numpy(), 350, inds)\n",
    "        y_hat_ass.append(a)\n",
    "        y_hat_ass_cnt.append(c)\n",
    "        \n",
    "    y_hat_ass = np.array(y_hat_ass)\n",
    "    y_hat_ass_cnt = np.array(y_hat_ass_cnt)\n",
    "    y_hat_ass /= y_hat_ass_cnt\n",
    "    y_hat_ens_ass.append(y_hat_ass)\n",
    "\n",
    "y_hat_ens_ass = np.array(y_hat_ens_ass)"
   ]
  },
  {
   "cell_type": "code",
   "execution_count": null,
   "id": "25878b4f-729e-4426-ab28-2ca73f04d3f2",
   "metadata": {},
   "outputs": [],
   "source": [
    "y_hat_ens_ass.shape"
   ]
  },
  {
   "cell_type": "code",
   "execution_count": null,
   "id": "9327f86b-696a-4162-971e-727f8de1d2f2",
   "metadata": {},
   "outputs": [],
   "source": [
    "y_hat_agg = (y_hat_ens_ass > .5).astype(int)\n",
    "y_hat_agg = (y_hat_ens_ass * w[:, None, None, None]).sum(axis=0)\n",
    "y_hat_agg.shape"
   ]
  },
  {
   "cell_type": "code",
   "execution_count": null,
   "id": "6944eaf8-6200-4892-a226-2b37ea7a7cd2",
   "metadata": {},
   "outputs": [],
   "source": [
    "Dice()(torch.tensor(y_hat_agg), torch.tensor(ds_test.masks.values))"
   ]
  },
  {
   "cell_type": "code",
   "execution_count": null,
   "id": "3a95541d-4be8-436e-bde1-c8ecac8cb0ed",
   "metadata": {},
   "outputs": [],
   "source": [
    "n, _, _, _ = y_hat_ens.shapea\n",
    "for i in range(n):\n",
    "    d = Dice()(y_hat_ens[i], y)\n",
    "    print(d)"
   ]
  },
  {
   "cell_type": "code",
   "execution_count": null,
   "id": "c578a092-f85f-4753-b1ed-aa552f3916dd",
   "metadata": {},
   "outputs": [],
   "source": [
    "Dice()(y_hat_ens.mean(dim=0), y)"
   ]
  },
  {
   "cell_type": "code",
   "execution_count": null,
   "id": "328e8e3a-5a86-4995-ab9a-019f40c59adf",
   "metadata": {},
   "outputs": [],
   "source": [
    "y_hat_ens.std(dim=0).shape"
   ]
  },
  {
   "cell_type": "code",
   "execution_count": null,
   "id": "1a0077e5-356e-4344-b216-8bf7e65bba91",
   "metadata": {},
   "outputs": [],
   "source": [
    "y_hat_ens = joblib.load(\"pred_clf.joblib\")\n",
    "y_hat_ens = torch.sigmoid(y_hat_ens)\n",
    "\n",
    "y_hat_ens = y_hat_ens > 0.5\n",
    "\n",
    "y_hat_ens.shape"
   ]
  },
  {
   "cell_type": "code",
   "execution_count": null,
   "id": "0a52d8b1-cbc9-46ef-a6bb-785ffc2cdb35",
   "metadata": {},
   "outputs": [],
   "source": [
    "y = y_hat_ens.sum(dim=0).squeeze()\n",
    "y.shape"
   ]
  },
  {
   "cell_type": "code",
   "execution_count": null,
   "id": "3bebef2b-5a9f-42e1-aa05-b915d7cf4d31",
   "metadata": {},
   "outputs": [],
   "source": [
    "plt.hist(y, bins=np.arange(25))\n",
    "plt.yscale(\"log\")"
   ]
  },
  {
   "cell_type": "code",
   "execution_count": null,
   "id": "64e72e5b-2ed2-4ff1-bb14-70baacd6fd2b",
   "metadata": {},
   "outputs": [],
   "source": []
  }
 ],
 "metadata": {
  "kernelspec": {
   "display_name": "Python 3 (ipykernel)",
   "language": "python",
   "name": "python3"
  },
  "language_info": {
   "codemirror_mode": {
    "name": "ipython",
    "version": 3
   },
   "file_extension": ".py",
   "mimetype": "text/x-python",
   "name": "python",
   "nbconvert_exporter": "python",
   "pygments_lexer": "ipython3",
   "version": "3.11.7"
  }
 },
 "nbformat": 4,
 "nbformat_minor": 5
}
