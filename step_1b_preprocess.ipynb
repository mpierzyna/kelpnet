{
 "cells": [
  {
   "cell_type": "code",
   "execution_count": null,
   "id": "2f6575a7-f28c-48a2-8541-2d6646a0aa40",
   "metadata": {},
   "outputs": [],
   "source": [
    "import xarray as xr\n",
    "import pathlib\n",
    "import rasterio\n",
    "import tqdm\n",
    "import numpy as np\n",
    "from concurrent.futures import ProcessPoolExecutor\n",
    "from dask.distributed import Client\n",
    "import matplotlib.pyplot as plt\n",
    "\n",
    "from data import KelpDataset\n",
    "from data import Channel as Ch\n",
    "import trafos"
   ]
  },
  {
   "cell_type": "code",
   "execution_count": null,
   "id": "821bbd4d-15d5-4415-bef0-49460c1eb50b",
   "metadata": {},
   "outputs": [],
   "source": [
    "def normalize(x, xmin, xmax):\n",
    "    return (x - xmin) / (xmax - xmin)"
   ]
  },
  {
   "cell_type": "markdown",
   "id": "e17bb56e-1b78-4512-9e0a-85416fbc3709",
   "metadata": {
    "jp-MarkdownHeadingCollapsed": true
   },
   "source": [
    "# Write tif to nc"
   ]
  },
  {
   "cell_type": "code",
   "execution_count": null,
   "id": "4aa6d715-fb44-4d67-8fc4-dce551c80085",
   "metadata": {},
   "outputs": [],
   "source": [
    "import warnings\n",
    "warnings.filterwarnings(\"ignore\", category=rasterio.errors.NotGeoreferencedWarning)"
   ]
  },
  {
   "cell_type": "code",
   "execution_count": null,
   "id": "c7597fbc-d496-43a6-9260-dedb0aca450a",
   "metadata": {},
   "outputs": [],
   "source": [
    "ds_tif_train = KelpDataset(img_dir=\"data_inpainted/train_satellite/\", mask_dir=\"data/train_kelp/\")\n",
    "ds_tif_test = KelpDataset(img_dir=\"data_inpainted/test_satellite/\", mask_dir=None)"
   ]
  },
  {
   "cell_type": "code",
   "execution_count": null,
   "id": "27ea9663-5aa7-4d5a-927e-5af824cc0945",
   "metadata": {},
   "outputs": [],
   "source": [
    "ds = ds_tif_test\n",
    "\n",
    "with ProcessPoolExecutor(max_workers=32) as p:\n",
    "    res = list(tqdm.tqdm(\n",
    "        p.map(ds.__getitem__, range(len(ds))),\n",
    "        total=len(ds)\n",
    "    ))"
   ]
  },
  {
   "cell_type": "markdown",
   "id": "30d229e0-da21-476f-b767-515266842ffb",
   "metadata": {},
   "source": [
    "## Train"
   ]
  },
  {
   "cell_type": "code",
   "execution_count": null,
   "id": "30ec8ae0-68e2-43c9-85df-94a7c85446e2",
   "metadata": {},
   "outputs": [],
   "source": [
    "imgs, masks = zip(*res)\n",
    "imgs = xr.DataArray(np.array(imgs), dims=[\"sample\", \"i\", \"j\", \"ch\"], coords={\"sample\": ds.tile_ids})\n",
    "masks = xr.DataArray(np.array(masks), dims=[\"sample\", \"i\", \"j\"], coords={\"sample\": ds.tile_ids})"
   ]
  },
  {
   "cell_type": "code",
   "execution_count": null,
   "id": "4f2f4294-7020-43c7-8ec6-3605b129bd7f",
   "metadata": {},
   "outputs": [],
   "source": [
    "imgs.to_netcdf(\"data_ncf/train_imgs.ncf\")\n",
    "masks.to_netcdf(\"data_ncf/train_masks.ncf\")"
   ]
  },
  {
   "cell_type": "markdown",
   "id": "94330a98-2506-409e-8bdc-7a6a810aa353",
   "metadata": {},
   "source": [
    "## Test"
   ]
  },
  {
   "cell_type": "code",
   "execution_count": null,
   "id": "3519aebb-42f1-41bd-a73f-debec1caf11f",
   "metadata": {},
   "outputs": [],
   "source": [
    "imgs, masks = zip(*res)\n",
    "imgs = xr.DataArray(np.array(imgs), dims=[\"sample\", \"i\", \"j\", \"ch\"], coords={\"sample\": ds.tile_ids})\n",
    "imgs.to_netcdf(\"data_ncf/test_imgs.ncf\")"
   ]
  },
  {
   "cell_type": "markdown",
   "id": "9ed429f2-8b18-4a2b-8926-42c7273d519d",
   "metadata": {},
   "source": [
    "# Load nc back"
   ]
  },
  {
   "cell_type": "code",
   "execution_count": null,
   "id": "cf0c763e-1531-4d0b-a7b8-9d41bc5ef42c",
   "metadata": {},
   "outputs": [],
   "source": [
    "client = Client(n_workers=8)\n",
    "client"
   ]
  },
  {
   "cell_type": "code",
   "execution_count": null,
   "id": "09fda806-ad90-42fd-bf37-1733fad65ed7",
   "metadata": {},
   "outputs": [],
   "source": [
    "# For writing\n",
    "# imgs = xr.open_dataarray(\"data_ncf/train_imgs.ncf\", engine=\"netcdf4\", chunks={\"sample\": 500, \"i\": None, \"j\": None, \"ch\": 1})\n",
    "imgs = xr.open_dataarray(\"data_ncf/test_imgs.ncf\", engine=\"netcdf4\", chunks={\"sample\": 500, \"i\": None, \"j\": None, \"ch\": 1})\n",
    "\n",
    "# For dev\n",
    "# imgs = xr.open_dataarray(\"data_ncf/imgs.ncf\", chunks={\"sample\": None, \"i\": None, \"j\": None, \"ch\": 1})\n",
    "# imgs = imgs.isel(sample=np.random.choice(np.arange(imgs.sizes[\"sample\"]), size=1000, replace=False))\n",
    "imgs"
   ]
  },
  {
   "cell_type": "code",
   "execution_count": null,
   "id": "915b0bdc-9d89-49dd-8efc-c78c93347e97",
   "metadata": {},
   "outputs": [],
   "source": [
    "nir = imgs.isel(ch=Ch.NIR)\n",
    "swir = imgs.isel(ch=Ch.SWIR)\n",
    "r = imgs.isel(ch=Ch.R)\n",
    "g = imgs.isel(ch=Ch.G)\n",
    "b = imgs.isel(ch=Ch.B)\n",
    "\n",
    "ndwi_1 = (g - nir) / (g + nir)\n",
    "ndwi_2 = (nir - swir) / (nir + swir)\n",
    "ndvi = (nir - r) / (nir + r)\n",
    "gndvi = (nir - g) / (nir + g)\n",
    "ndti = (r - g) / (r + g)\n",
    "evi = 2.5 * (nir - r) / (nir + 6 * r - 7.5 * b + 1)\n",
    "cari = ((nir - r) / (nir + r)) - ((nir - g) / (nir + g))"
   ]
  },
  {
   "cell_type": "markdown",
   "id": "796a7389-1f6d-4d5c-9f9d-836e7caede18",
   "metadata": {
    "jp-MarkdownHeadingCollapsed": true
   },
   "source": [
    "## For dev: cdf plots"
   ]
  },
  {
   "cell_type": "code",
   "execution_count": null,
   "id": "3c70aa97-ba9f-476c-8d85-dfa471a485ca",
   "metadata": {},
   "outputs": [],
   "source": [
    "def plot_cdf(x, vmin=0, vmax=1):\n",
    "    x_q = x.quantile(q=ch_q[\"quantile\"]).compute()\n",
    "\n",
    "    fig, ax = plt.subplots()\n",
    "    ax.plot(x_q, x_q[\"quantile\"])\n",
    "    ax.set_ylim(0, 1)\n",
    "    ax.set_xlim(vmin, vmax)\n",
    "\n",
    "    return x_q"
   ]
  },
  {
   "cell_type": "code",
   "execution_count": null,
   "id": "a96b7048-a035-48f8-850f-11f82d7af59e",
   "metadata": {},
   "outputs": [],
   "source": [
    "plot_cdf(normalize(swir, .1, .3))"
   ]
  },
  {
   "cell_type": "code",
   "execution_count": null,
   "id": "097ad954-8fde-4d21-a90d-fb3e1a55fb84",
   "metadata": {},
   "outputs": [],
   "source": [
    "plot_cdf(normalize(nir, .1, .35))"
   ]
  },
  {
   "cell_type": "code",
   "execution_count": null,
   "id": "260a0395-6f17-4191-9af6-9ca2809a59a5",
   "metadata": {},
   "outputs": [],
   "source": [
    "plot_cdf(normalize(r, .1, .2))"
   ]
  },
  {
   "cell_type": "code",
   "execution_count": null,
   "id": "2f84e56b-d695-415e-b299-20e096eee855",
   "metadata": {},
   "outputs": [],
   "source": [
    "plot_cdf(normalize(g, .1, .2))"
   ]
  },
  {
   "cell_type": "code",
   "execution_count": null,
   "id": "60ceaa04-454d-4a86-a466-64177461409d",
   "metadata": {},
   "outputs": [],
   "source": [
    "plot_cdf(normalize(b, .1, .2))"
   ]
  },
  {
   "cell_type": "code",
   "execution_count": null,
   "id": "bc63820b-dbe8-4a2d-a19b-c289c2f7bed7",
   "metadata": {},
   "outputs": [],
   "source": [
    "plot_cdf(normalize(ndwi_1, -.4, .1))"
   ]
  },
  {
   "cell_type": "code",
   "execution_count": null,
   "id": "f0fcae17-4bf3-4c7f-9c63-c4d90f2c4b9d",
   "metadata": {},
   "outputs": [],
   "source": [
    "plot_cdf(normalize(ndwi_2, -.1, .2))"
   ]
  },
  {
   "cell_type": "code",
   "execution_count": null,
   "id": "a60275e0-875e-42a8-912f-72dca9ae5f00",
   "metadata": {},
   "outputs": [],
   "source": [
    "plot_cdf(normalize(ndvi, -.05, .4))"
   ]
  },
  {
   "cell_type": "code",
   "execution_count": null,
   "id": "f5fe1ba2-262b-4cb8-897f-708cbf5b60a3",
   "metadata": {},
   "outputs": [],
   "source": [
    "plot_cdf(normalize(gndvi, -.1, .5))"
   ]
  },
  {
   "cell_type": "code",
   "execution_count": null,
   "id": "22b5e7c5-a41e-4ce3-8d62-cc7b7caf6667",
   "metadata": {},
   "outputs": [],
   "source": [
    "plot_cdf(normalize(ndti, -.075, .075))"
   ]
  },
  {
   "cell_type": "code",
   "execution_count": null,
   "id": "5387e1cd-00ff-4843-92dc-f65849c66a86",
   "metadata": {},
   "outputs": [],
   "source": [
    "plot_cdf(normalize(evi, -.075, .4))"
   ]
  },
  {
   "cell_type": "code",
   "execution_count": null,
   "id": "60d06ffb-1d5d-44cc-b8df-d7e6593f317e",
   "metadata": {},
   "outputs": [],
   "source": [
    "plot_cdf(normalize(cari, -.06, .06))"
   ]
  },
  {
   "cell_type": "markdown",
   "id": "7cd8939a-40b4-44b2-8b5f-1f2cdb0d3acc",
   "metadata": {},
   "source": [
    "## For prod: normalize"
   ]
  },
  {
   "cell_type": "code",
   "execution_count": null,
   "id": "dcb40527-0480-49f7-b2ab-1f1f972d7cc4",
   "metadata": {},
   "outputs": [],
   "source": [
    "# Now normalize\n",
    "nir = normalize(nir, .1, .35)\n",
    "swir = normalize(swir, .1, .3)\n",
    "r = normalize(r, .1, .2)\n",
    "g = normalize(g, .1, .2)\n",
    "b = normalize(b, .1, .2)\n",
    "\n",
    "ndwi_1 = normalize(ndwi_1, -.4, .1)\n",
    "ndwi_2 = normalize(ndwi_2, -.1, .2)\n",
    "ndvi = normalize(ndvi, -.05, .4)\n",
    "gndvi = normalize(gndvi, -.1, .5)\n",
    "ndti = normalize(ndti, -.075, .075)\n",
    "evi = normalize(evi, -.075, .4)\n",
    "cari = normalize(cari, -.06, .06)"
   ]
  },
  {
   "cell_type": "code",
   "execution_count": null,
   "id": "c1ed407e-d1d4-4615-b489-3f7ba538af9b",
   "metadata": {},
   "outputs": [],
   "source": [
    "# Stick to Channel order\n",
    "imgs_fe = xr.concat([\n",
    "    swir, \n",
    "    nir, \n",
    "    r, \n",
    "    g, \n",
    "    b,\n",
    "    imgs.isel(ch=Ch.IS_CLOUD),\n",
    "    imgs.isel(ch=Ch.IS_LAND),\n",
    "    imgs.isel(ch=Ch.NOT_CLOUD_LAND),\n",
    "    ndwi_1,\n",
    "    ndwi_2, \n",
    "    ndvi,\n",
    "    gndvi, \n",
    "    ndti,\n",
    "    evi,\n",
    "    cari \n",
    "], dim=\"ch\")\n",
    "\n",
    "imgs_fe = imgs_fe.assign_coords({\"ch\": [\n",
    "    \"swir\",\n",
    "    \"nir\",\n",
    "    \"r\",\n",
    "    \"g\",\n",
    "    \"b\",\n",
    "    \"is_cloud\",\n",
    "    \"is_land\",\n",
    "    \"not_cloud_land\",\n",
    "    \"ndwi_1\",\n",
    "    \"ndwi_2\",\n",
    "    \"ndvi\",\n",
    "    \"gndvi\",\n",
    "    \"ndti\",\n",
    "    \"evi\",\n",
    "    \"cari\",\n",
    "]})\n",
    "\n",
    "imgs_fe = imgs_fe.transpose(\"sample\", \"i\", \"j\", \"ch\")\n",
    "imgs_fe = imgs_fe.clip(0, 1)\n",
    "imgs_fe"
   ]
  },
  {
   "cell_type": "code",
   "execution_count": null,
   "id": "ede5998d-f0ea-4140-bff5-a2fb277c83e1",
   "metadata": {},
   "outputs": [],
   "source": [
    "imgs_fe = imgs_fe.compute()\n",
    "imgs_fe = imgs_fe.interpolate_na(dim=\"i\", fill_value=\"extrapolate\")\n",
    "imgs_fe"
   ]
  },
  {
   "cell_type": "code",
   "execution_count": null,
   "id": "427dbd19-e22d-4cb6-8ef3-e4dd207ef25d",
   "metadata": {},
   "outputs": [],
   "source": [
    "np.where(imgs_fe.isnull())"
   ]
  },
  {
   "cell_type": "code",
   "execution_count": null,
   "id": "85d5c84f-3bc6-4a3f-997e-a920c6039181",
   "metadata": {},
   "outputs": [],
   "source": [
    "import matplotlib.pyplot as plt"
   ]
  },
  {
   "cell_type": "code",
   "execution_count": null,
   "id": "c960cd9a-d4ac-46b9-947c-c3838409c172",
   "metadata": {},
   "outputs": [],
   "source": [
    "plt.imshow(imgs_fe[7, :, :, 8])"
   ]
  },
  {
   "cell_type": "code",
   "execution_count": null,
   "id": "389210ca-7399-412e-bac4-c714fa6f3f85",
   "metadata": {},
   "outputs": [],
   "source": [
    "# imgs_fe.to_netcdf(\"data_ncf/train_imgs_fe.nc\", engine=\"netcdf4\")\n",
    "imgs_fe.to_netcdf(\"data_ncf/test_imgs_fe.nc\", engine=\"netcdf4\")"
   ]
  },
  {
   "cell_type": "code",
   "execution_count": null,
   "id": "8626637b-3290-485e-b915-2f3c84ee08a5",
   "metadata": {},
   "outputs": [],
   "source": []
  }
 ],
 "metadata": {
  "kernelspec": {
   "display_name": "Python 3 (ipykernel)",
   "language": "python",
   "name": "python3"
  },
  "language_info": {
   "codemirror_mode": {
    "name": "ipython",
    "version": 3
   },
   "file_extension": ".py",
   "mimetype": "text/x-python",
   "name": "python",
   "nbconvert_exporter": "python",
   "pygments_lexer": "ipython3",
   "version": "3.11.7"
  }
 },
 "nbformat": 4,
 "nbformat_minor": 5
}
