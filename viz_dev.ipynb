{
 "cells": [
  {
   "cell_type": "code",
   "execution_count": null,
   "metadata": {},
   "outputs": [],
   "source": [
    "import xarray as xr\n",
    "import matplotlib.pyplot as plt\n",
    "import pandas as pd\n",
    "import joblib\n",
    "import torch\n",
    "import tqdm\n",
    "import numpy as np\n",
    "import seaborn as sns\n",
    "\n",
    "import torchmetrics\n",
    "\n",
    "\n",
    "from data import KelpNCDataset, Channel\n",
    "import shared\n",
    "import torch_deeplabv3 as dlv3"
   ]
  },
  {
   "cell_type": "code",
   "execution_count": null,
   "metadata": {},
   "outputs": [],
   "source": [
    "ds = KelpNCDataset(img_nc_path=\"data_ncf/train_imgs_fe.nc\", mask_nc_path=\"data_ncf/train_masks.ncf\")\n",
    "_, _, ds_test = dlv3.get_dataset(use_channels=None, random_seed=shared.GLOBAL_SEED)"
   ]
  },
  {
   "cell_type": "code",
   "execution_count": null,
   "metadata": {},
   "outputs": [],
   "source": [
    "y_test = ds_test.masks\n",
    "y_test"
   ]
  },
  {
   "cell_type": "code",
   "execution_count": null,
   "metadata": {},
   "outputs": [],
   "source": [
    "y_test_t = torch.from_numpy(y_test.to_numpy())\n",
    "y_test_t.shape"
   ]
  },
  {
   "cell_type": "code",
   "execution_count": null,
   "metadata": {},
   "outputs": [],
   "source": [
    "_, h, w = y_test.shape\n",
    "y_test_kf = y_test.sum(dim=(\"i\", \"j\")) / (h * w)\n",
    "y_test_kf = y_test_kf.compute()\n",
    "y_test_kf"
   ]
  },
  {
   "cell_type": "code",
   "execution_count": null,
   "metadata": {},
   "outputs": [],
   "source": [
    "np.argsort(-y_test_kf)"
   ]
  },
  {
   "cell_type": "code",
   "execution_count": null,
   "metadata": {},
   "outputs": [],
   "source": [
    "scores, y_hat_aa, used_ch  = joblib.load(\"ens_dlv3/dev/pred_dlv3_test.joblib\")\n",
    "y_hat_aa.shape"
   ]
  },
  {
   "cell_type": "code",
   "execution_count": null,
   "metadata": {},
   "outputs": [],
   "source": [
    "torchmetrics.functional.dice(y_hat_aa[1, 0], y_test_t[0])"
   ]
  },
  {
   "cell_type": "code",
   "execution_count": null,
   "metadata": {},
   "outputs": [],
   "source": [
    "# Create matrix where each row holds scores for model with used channels\n",
    "ch_scores = np.zeros(\n",
    "    (len(scores), len(Channel))\n",
    ")\n",
    "ch_scores[:, :] = np.nan\n",
    "for i, (s, ch) in enumerate(zip(scores, used_ch)):\n",
    "    ch_scores[i, ch] = s\n",
    "\n",
    "# Convert to df\n",
    "ch_scores = pd.DataFrame(ch_scores, columns=[c.name for c in Channel])\n",
    "ch_scores = ch_scores.iloc[:, shared.VALID_CHANNELS]\n",
    "ch_scores"
   ]
  },
  {
   "cell_type": "code",
   "execution_count": null,
   "metadata": {},
   "outputs": [],
   "source": [
    "fig, ax = plt.subplots()\n",
    "sns.heatmap(ch_scores, ax=ax)"
   ]
  },
  {
   "cell_type": "code",
   "execution_count": null,
   "metadata": {},
   "outputs": [],
   "source": [
    "plt.hist(scores)"
   ]
  },
  {
   "cell_type": "code",
   "execution_count": null,
   "metadata": {},
   "outputs": [],
   "source": [
    "y_hat_aa_mean = torch.mean(y_hat_aa.float(), dim=0)\n",
    "y_hat_aa_mean.shape"
   ]
  },
  {
   "cell_type": "code",
   "execution_count": null,
   "metadata": {},
   "outputs": [],
   "source": [
    "plt.contour(y_hat_aa_mean[50], origin=\"lower\", levels=[1])"
   ]
  },
  {
   "cell_type": "code",
   "execution_count": null,
   "metadata": {},
   "outputs": [],
   "source": [
    "plt.imshow(y_hat_aa_mean[49], origin=\"lower\")"
   ]
  },
  {
   "cell_type": "code",
   "execution_count": null,
   "metadata": {},
   "outputs": [],
   "source": [
    "fig, ax = plt.subplots()\n",
    "i = 41\n",
    "ax.contour(y_test[i], levels=[0])  # true\n",
    "ax.imshow(y_hat_aa_mean[i], origin=\"lower\", cmap=\"pink_r\")  # pred"
   ]
  },
  {
   "cell_type": "code",
   "execution_count": null,
   "metadata": {},
   "outputs": [],
   "source": [
    "y_hat_clf = joblib.load(\"pred_clf_test_agg_aa.joblib\")\n",
    "y_hat_clf.shape"
   ]
  },
  {
   "cell_type": "code",
   "execution_count": null,
   "metadata": {},
   "outputs": [],
   "source": [
    "fig, ax = plt.subplots()\n",
    "i = 41\n",
    "ax.contour(y_test[i], levels=[0])  # true\n",
    "ax.imshow(y_hat_clf[i], origin=\"lower\", cmap=\"pink_r\")  # pred"
   ]
  },
  {
   "cell_type": "code",
   "execution_count": null,
   "metadata": {},
   "outputs": [],
   "source": [
    "# Read leaderboard and set column title to \"score\" since data does not have a header\n",
    "lb_me = 38 - 1\n",
    "lb = pd.read_csv(\"leaderboard.txt\")\n",
    "lb"
   ]
  },
  {
   "cell_type": "code",
   "execution_count": null,
   "metadata": {},
   "outputs": [],
   "source": [
    "fig, ax = plt.subplots(figsize=(5, 8))\n",
    "lb_ticks = np.array([1, 5, 10, 25, lb_me + 1, 50, 100]) - 1\n",
    "ax.barh(-lb.index, lb[\"score\"], height=1, color=\"lightgrey\")\n",
    "ax.barh(-lb_me, lb[\"score\"][lb_me], color=\"red\", height=1)\n",
    "ax.tick_params(top=True, labeltop=True, bottom=False, labelbottom=False)\n",
    "ax.set_xlabel(\"Dice score\")\n",
    "ax.set_yticks(-lb_ticks)\n",
    "ax.set_yticklabels(lb_ticks + 1)\n",
    "ax.set_ylabel(\"Rank\")\n",
    "ax.margins(0)"
   ]
  },
  {
   "cell_type": "code",
   "execution_count": null,
   "metadata": {},
   "outputs": [],
   "source": [
    "fig, ax = plt.subplots()\n",
    "\n",
    "lb_ticks = np.array([1, 5, 10, 25, lb_me + 1, 50, 100]) - 1\n",
    "ax.bar(lb.index, lb[\"score\"], width=1, color=\"lightgrey\")\n",
    "ax.bar(lb_me, lb[\"score\"][lb_me], color=\"red\", width=1)\n",
    "ax.set_xticks(lb_ticks)\n",
    "ax.set_xticklabels(lb_ticks + 1)\n",
    "ax.set_xlabel(\"Rank\")\n",
    "ax.set_ylabel(\"Dice score\")\n",
    "ax.margins(x=0)"
   ]
  },
  {
   "cell_type": "code",
   "execution_count": null,
   "metadata": {},
   "outputs": [],
   "source": [
    "y_hat_aa = torch.from_numpy(joblib.load(\"pred_2staged_test.joblib\"))\n",
    "y_hat_aa.shape"
   ]
  },
  {
   "cell_type": "code",
   "execution_count": null,
   "metadata": {},
   "outputs": [],
   "source": [
    "y_true = torch.from_numpy(ds_test.masks.to_numpy())\n",
    "y_true.shape"
   ]
  },
  {
   "cell_type": "code",
   "execution_count": null,
   "metadata": {},
   "outputs": [],
   "source": [
    "\n",
    "\n",
    "score = torchmetrics.functional.dice(\n",
    "    preds=torch.from_numpy(y_hat_aa),\n",
    "    target=torch.from_numpy(y_test.to_numpy()),\n",
    ")\n",
    "score"
   ]
  },
  {
   "cell_type": "code",
   "execution_count": null,
   "metadata": {},
   "outputs": [],
   "source": [
    "def get_sample_dice(y_true, y_pred):\n",
    "    tp = (y_true * y_pred).sum()\n",
    "    fp = ((1 - y_true) * y_pred).sum()\n",
    "    tn = ((1 - y_true) * (1 - y_pred)).sum()\n",
    "    fn = (y_true * (1 - y_pred)).sum()\n",
    "    dice = (2 * tp) / (2 * tp + fp + fn)\n",
    "    if np.isnan(dice):\n",
    "        return torch.tensor(1.1)\n",
    "    else:\n",
    "        return dice"
   ]
  },
  {
   "cell_type": "code",
   "execution_count": null,
   "metadata": {},
   "outputs": [],
   "source": [
    "sample_scores = torch.stack([\n",
    "    get_sample_dice(y_hat_aa[i], y_true[i])\n",
    "    for i in tqdm.trange(len(y_hat_aa))\n",
    "])\n",
    "sample_scores"
   ]
  },
  {
   "cell_type": "code",
   "execution_count": null,
   "metadata": {},
   "outputs": [],
   "source": [
    "sns.histplot(sample_scores, stat=\"probability\", bins=np.linspace(0, 1, 21))"
   ]
  },
  {
   "cell_type": "code",
   "execution_count": null,
   "metadata": {},
   "outputs": [],
   "source": [
    "np.where(sample_scores == 0)"
   ]
  },
  {
   "cell_type": "code",
   "execution_count": null,
   "metadata": {},
   "outputs": [],
   "source": [
    "import matplotlib.colors"
   ]
  },
  {
   "cell_type": "code",
   "execution_count": null,
   "metadata": {},
   "outputs": [],
   "source": [
    "# fig, ax = plt.subplots()\n",
    "r = 1/5\n",
    "bins = 25\n",
    "bins_kf = np.linspace(0, .2 ** r, bins)\n",
    "bins_score = np.linspace(0, 1, bins)\n",
    "stat=\"probability\"\n",
    "\n",
    "# g = sns.jointplot(x=sample_score, y=y_test_kf ** r, kind=\"hist\", bins=bins, marginal_kws={\"bins\": bins})\n",
    "g = sns.JointGrid(x=y_test_kf ** r, y=sample_scores, ratio=3, height=6)\n",
    "g.plot_joint(plt.hist2d, bins=25, norm=matplotlib.colors.LogNorm(), cmap=\"Blues\")\n",
    "g.plot_marginals(sns.histplot, bins=bins, stat=stat)\n",
    "g.set_axis_labels(\"True kelp fraction\", \"Dice score\")\n",
    "\n",
    "g.ax_joint.axhline(1, color=\"grey\", linestyle=\"--\")\n",
    "g.ax_marg_y.axhline(1, color=\"grey\", linestyle=\"--\")\n",
    "\n",
    "# Add custom ticks to x axis\n",
    "kf_ticks = np.array([0, 1e-3, 0.025, 0.05, 0.1, 0.2])\n",
    "g.ax_joint.set_xticks(kf_ticks ** r)\n",
    "g.ax_joint.set_xticklabels(kf_ticks)\n",
    "\n",
    "# Add custom ticks to y axis\n",
    "score_ticks = np.array([0, 0.2, 0.4, 0.6, 0.8, 1])\n",
    "g.ax_joint.set_yticks(score_ticks)\n",
    "g.ax_joint.set_yticklabels(score_ticks)\n",
    "\n",
    "g.savefig(\"plots/jointplot_kf_dice.svg\")"
   ]
  },
  {
   "cell_type": "code",
   "execution_count": null,
   "metadata": {},
   "outputs": [],
   "source": [
    "no_kelp_but_predicted,  = np.where((sample_scores == 0) & (y_test_kf  == 0))\n",
    "no_kelp_but_predicted"
   ]
  },
  {
   "cell_type": "code",
   "execution_count": null,
   "metadata": {},
   "outputs": [],
   "source": [
    "kelp_missed,  = np.where((sample_scores == 0) & (y_test_kf > 0))\n",
    "kelp_missed"
   ]
  },
  {
   "cell_type": "code",
   "execution_count": null,
   "metadata": {},
   "outputs": [],
   "source": [
    "no_kelp_present_no_kelp_predicted,  = np.where((sample_scores > 0) & (y_test_kf  == 0))\n",
    "no_kelp_present_no_kelp_predicted"
   ]
  },
  {
   "cell_type": "code",
   "execution_count": null,
   "metadata": {},
   "outputs": [],
   "source": [
    "kelp_present_kelp_predicted,  = np.where((sample_scores > 0) & (y_test_kf  > 0))\n",
    "kelp_present_kelp_predicted"
   ]
  },
  {
   "cell_type": "code",
   "execution_count": null,
   "metadata": {},
   "outputs": [],
   "source": [
    "fp = len(no_kelp_but_predicted)\n",
    "fn = len(kelp_missed)\n",
    "tp = len(kelp_present_kelp_predicted)\n",
    "tn = len(no_kelp_present_no_kelp_predicted)\n",
    "fp + fn + tp + tn"
   ]
  },
  {
   "cell_type": "code",
   "execution_count": null,
   "metadata": {},
   "outputs": [],
   "source": [
    "tp / (fp + fn + tp + tn)"
   ]
  },
  {
   "cell_type": "code",
   "execution_count": null,
   "metadata": {},
   "outputs": [],
   "source": [
    "tn / (fp + fn + tp + tn)"
   ]
  },
  {
   "cell_type": "code",
   "execution_count": null,
   "metadata": {},
   "outputs": [],
   "source": [
    "fp / (fp + fn + tp + tn)"
   ]
  },
  {
   "cell_type": "code",
   "execution_count": null,
   "metadata": {},
   "outputs": [],
   "source": [
    "fn / (fp + fn + tp + tn)"
   ]
  },
  {
   "cell_type": "code",
   "execution_count": null,
   "metadata": {},
   "outputs": [],
   "source": [
    "tn / (tn + fp)"
   ]
  },
  {
   "cell_type": "code",
   "execution_count": null,
   "metadata": {},
   "outputs": [],
   "source": [
    "fp / (tn + fp)"
   ]
  },
  {
   "cell_type": "code",
   "execution_count": null,
   "metadata": {},
   "outputs": [],
   "source": [
    "y_test_kf[kelp_missed]"
   ]
  },
  {
   "cell_type": "code",
   "execution_count": null,
   "metadata": {},
   "outputs": [],
   "source": [
    "y_test_kf.sample[no_kelp_but_predicted]"
   ]
  },
  {
   "cell_type": "code",
   "execution_count": null,
   "metadata": {},
   "outputs": [],
   "source": [
    "sample_scores_da = xr.DataArray(sample_scores, dims=\"sample\", coords={\"sample\": y_test_kf.sample})\n",
    "sample_scores_da"
   ]
  },
  {
   "cell_type": "code",
   "execution_count": null,
   "metadata": {},
   "outputs": [],
   "source": [
    "sample_scores_da.sel(sample=\"TV825104\")"
   ]
  },
  {
   "cell_type": "code",
   "execution_count": null,
   "metadata": {},
   "outputs": [],
   "source": [
    "sample_scores_da[(sample_scores_da < 0.4) & (sample_scores_da > 0.3)]"
   ]
  },
  {
   "cell_type": "code",
   "execution_count": null,
   "metadata": {},
   "outputs": [],
   "source": [
    "import torch_deeplabv3 as dlv3\n",
    "import torch_simple_clf as clf"
   ]
  },
  {
   "cell_type": "code",
   "execution_count": null,
   "metadata": {},
   "outputs": [],
   "source": [
    "def get_num_params(model):\n",
    "    return sum(p.numel() for p in model.parameters() if p.requires_grad)\n",
    "\n",
    "\n",
    "print(f\"{get_num_params(dlv3.DeepLabV3(3, 512)):.2e}\")\n",
    "print(f\"{get_num_params(clf.BinaryClfCNN(3, 128, .2)):.2e}\")"
   ]
  },
  {
   "cell_type": "code",
   "execution_count": null,
   "metadata": {},
   "outputs": [],
   "source": []
  }
 ],
 "metadata": {
  "kernelspec": {
   "display_name": "keras3",
   "language": "python",
   "name": "python3"
  },
  "language_info": {
   "codemirror_mode": {
    "name": "ipython",
    "version": 3
   },
   "file_extension": ".py",
   "mimetype": "text/x-python",
   "name": "python",
   "nbconvert_exporter": "python",
   "pygments_lexer": "ipython3",
   "version": "3.11.7"
  }
 },
 "nbformat": 4,
 "nbformat_minor": 2
}
