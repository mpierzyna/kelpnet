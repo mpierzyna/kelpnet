{
 "cells": [
  {
   "cell_type": "code",
   "execution_count": null,
   "metadata": {},
   "outputs": [],
   "source": [
    "import xarray as xr\n",
    "import matplotlib.pyplot as plt\n",
    "import pandas as pd\n",
    "import joblib\n",
    "import torch\n",
    "import tqdm\n",
    "import numpy as np\n",
    "import seaborn as sns\n",
    "\n",
    "\n",
    "from data import KelpNCDataset\n",
    "import shared\n",
    "import torch_deeplabv3 as dlv3"
   ]
  },
  {
   "cell_type": "code",
   "execution_count": null,
   "metadata": {},
   "outputs": [],
   "source": [
    "ds = KelpNCDataset(img_nc_path=\"data_ncf/train_imgs_fe.nc\", mask_nc_path=\"data_ncf/train_masks.ncf\")\n",
    "_, _, ds_test = dlv3.get_dataset(use_channels=None, random_seed=shared.GLOBAL_SEED)"
   ]
  },
  {
   "cell_type": "code",
   "execution_count": null,
   "metadata": {},
   "outputs": [],
   "source": [
    "y_test = ds_test.masks\n",
    "y_test"
   ]
  },
  {
   "cell_type": "code",
   "execution_count": null,
   "metadata": {},
   "outputs": [],
   "source": [
    "_, h, w = y_test.shape\n",
    "y_test_kf = y_test.sum(dim=(\"i\", \"j\")) / (h * w)\n",
    "y_test_kf = y_test_kf.compute()\n",
    "y_test_kf"
   ]
  },
  {
   "cell_type": "code",
   "execution_count": null,
   "metadata": {},
   "outputs": [],
   "source": [
    "np.argsort(-y_test_kf)"
   ]
  },
  {
   "cell_type": "code",
   "execution_count": null,
   "metadata": {},
   "outputs": [],
   "source": [
    "scores, y_hat_aa, _  = joblib.load(\"ens_dlv3/dev/pred_dlv3_test.joblib\")\n",
    "y_hat_aa.shape"
   ]
  },
  {
   "cell_type": "code",
   "execution_count": null,
   "metadata": {},
   "outputs": [],
   "source": [
    "y_hat_aa_mean = torch.mean(y_hat_aa.float(), dim=0)\n",
    "y_hat_aa_mean.shape"
   ]
  },
  {
   "cell_type": "code",
   "execution_count": null,
   "metadata": {},
   "outputs": [],
   "source": [
    "plt.contour(y_hat_aa_mean[50], origin=\"lower\", levels=[1])"
   ]
  },
  {
   "cell_type": "code",
   "execution_count": null,
   "metadata": {},
   "outputs": [],
   "source": [
    "plt.imshow(y_hat_aa_mean[49], origin=\"lower\")"
   ]
  },
  {
   "cell_type": "code",
   "execution_count": null,
   "metadata": {},
   "outputs": [],
   "source": [
    "fig, ax = plt.subplots()\n",
    "i = 41\n",
    "ax.contour(y_test[i], levels=[0])  # true\n",
    "ax.imshow(y_hat_aa_mean[i], origin=\"lower\", cmap=\"pink_r\")  # pred"
   ]
  },
  {
   "cell_type": "code",
   "execution_count": null,
   "metadata": {},
   "outputs": [],
   "source": [
    "y_hat_clf = joblib.load(\"pred_clf_test_agg_aa.joblib\")\n",
    "y_hat_clf.shape"
   ]
  },
  {
   "cell_type": "code",
   "execution_count": null,
   "metadata": {},
   "outputs": [],
   "source": [
    "fig, ax = plt.subplots()\n",
    "i = 41\n",
    "ax.contour(y_test[i], levels=[0])  # true\n",
    "ax.imshow(y_hat_clf[i], origin=\"lower\", cmap=\"pink_r\")  # pred"
   ]
  },
  {
   "cell_type": "code",
   "execution_count": null,
   "metadata": {},
   "outputs": [],
   "source": [
    "# Read leaderboard and set column title to \"score\" since data does not have a header\n",
    "lb_me = 38 - 1\n",
    "lb = pd.read_csv(\"leaderboard.txt\")\n",
    "lb"
   ]
  },
  {
   "cell_type": "code",
   "execution_count": null,
   "metadata": {},
   "outputs": [],
   "source": [
    "fig, ax = plt.subplots(figsize=(5, 8))\n",
    "lb_ticks = np.array([1, 5, 10, 25, lb_me + 1, 50, 100]) - 1\n",
    "ax.barh(-lb.index, lb[\"score\"], height=1, color=\"lightgrey\")\n",
    "ax.barh(-lb_me, lb[\"score\"][lb_me], color=\"red\", height=1)\n",
    "ax.set_xlabel(\"Dice score\")\n",
    "ax.set_yticks(-lb_ticks)\n",
    "ax.set_yticklabels(lb_ticks + 1)\n",
    "ax.set_ylabel(\"Rank\")\n",
    "ax.margins(0)"
   ]
  },
  {
   "cell_type": "code",
   "execution_count": null,
   "metadata": {},
   "outputs": [],
   "source": []
  }
 ],
 "metadata": {
  "kernelspec": {
   "display_name": "keras3",
   "language": "python",
   "name": "python3"
  },
  "language_info": {
   "codemirror_mode": {
    "name": "ipython",
    "version": 3
   },
   "file_extension": ".py",
   "mimetype": "text/x-python",
   "name": "python",
   "nbconvert_exporter": "python",
   "pygments_lexer": "ipython3",
   "version": "3.11.7"
  }
 },
 "nbformat": 4,
 "nbformat_minor": 2
}
